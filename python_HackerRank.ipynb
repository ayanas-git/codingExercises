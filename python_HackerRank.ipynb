{
 "cells": [
  {
   "cell_type": "markdown",
   "metadata": {},
   "source": [
    "### Leap Year Function"
   ]
  },
  {
   "cell_type": "code",
   "execution_count": null,
   "metadata": {},
   "outputs": [],
   "source": [
    "input = 1990\n",
    "\n",
    "def is_leap(year):\n",
    "    leap = False\n",
    "    if year % 4 == 0:\n",
    "        leap = True\n",
    "    if year % 100 == 0:\n",
    "        leap = False\n",
    "    if year % 400 == 0:\n",
    "        leap = True\n",
    "    return leap;\n",
    "        \n",
    "year = int(input())\n",
    "print(is_leap(year))"
   ]
  }
 ],
 "metadata": {
  "kernelspec": {
   "display_name": "Python 3.9.12 ('base')",
   "language": "python",
   "name": "python3"
  },
  "language_info": {
   "name": "python",
   "version": "3.9.12"
  },
  "orig_nbformat": 4,
  "vscode": {
   "interpreter": {
    "hash": "a0b72ea0c23ecc27c46db1519512f45c35bcc0ec0e2293c091e8098eed1ecf38"
   }
  }
 },
 "nbformat": 4,
 "nbformat_minor": 2
}
